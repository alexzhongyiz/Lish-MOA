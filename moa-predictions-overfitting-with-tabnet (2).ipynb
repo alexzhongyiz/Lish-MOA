{
 "cells": [
  {
   "cell_type": "markdown",
   "metadata": {},
   "source": [
    "<div class = \"alert alert-block alert-info\">\n",
    "    <h1><font color = \"red\">DISCLAIMER</font></h1>\n",
    "    <p>The following notebook it's highly based on the works <a href = \"https://www.kaggle.com/optimo/tabnetregressor-2-0-train-infer\">TabNetRegressor 2.0 [TRAIN + INFER]</a>, <a href = \"https://www.kaggle.com/liuhdme/moa-competition/data\">MOA competition</a> and <a href = \"https://www.kaggle.com/kushal1506/moa-pytorch-0-01859-rankgauss-pca-nn/data?select=train_targets_scored.csv\">\n",
    "MoA | Pytorch | 0.01859 | RankGauss | PCA | NN</a>, please check it out. I have to add that i don't make this notebook for \"upvotes\" but feedback.</p>\n",
    "</div>"
   ]
  },
  {
   "cell_type": "markdown",
   "metadata": {},
   "source": [
    "# <font color = \"seagreen\">Preambule</font>\n",
    "\n",
    "I made this notebook to share some experiments (see the sections \"Experiments\") which could help to someone who don't want to wast their daily \"submissions\", but more importantly, to get feedback about what i could change to achive a better CV. Moreover, the easiness of TabNet to overfit the data it's disturbing. In the section \"Conclusion\" i share my opinion about the fine-tuning process of TabNet."
   ]
  },
  {
   "cell_type": "markdown",
   "metadata": {},
   "source": [
    "## <font color = \"green\">Installing Libraries</font>"
   ]
  },
  {
   "cell_type": "code",
   "execution_count": null,
   "metadata": {
    "_cell_guid": "b1076dfc-b9ad-4769-8c92-a6c4dae69d19",
    "_kg_hide-output": true,
    "_uuid": "8f2839f25d086af736a60e9eeb907d3b93b6e0e5"
   },
   "outputs": [],
   "source": [
    "# TabNet\n",
    "!pip install --no-index --find-links /kaggle/input/pytorchtabnet/pytorch_tabnet-2.0.0-py3-none-any.whl pytorch-tabnet\n",
    "# Iterative Stratification\n",
    "!pip install /kaggle/input/iterative-stratification/iterative-stratification-master/"
   ]
  },
  {
   "cell_type": "markdown",
   "metadata": {},
   "source": [
    "## <font color = \"green\">Loading Libraries</font>"
   ]
  },
  {
   "cell_type": "code",
   "execution_count": null,
   "metadata": {
    "_cell_guid": "79c7e3d0-c299-4dcb-8224-4455121ee9b0",
    "_uuid": "d629ff2d2480ee46fbb7e2d37f6b5fab8052498a"
   },
   "outputs": [],
   "source": [
    "### General ###\n",
    "import os\n",
    "import sys\n",
    "import copy\n",
    "import tqdm\n",
    "import pickle\n",
    "import random\n",
    "import warnings\n",
    "warnings.filterwarnings(\"ignore\")\n",
    "sys.path.append(\"../input/rank-gauss\")\n",
    "os.environ[\"CUDA_LAUNCH_BLOCKING\"] = '1'\n",
    "\n",
    "### Data Wrangling ###\n",
    "import numpy as np\n",
    "import pandas as pd\n",
    "from scipy import stats\n",
    "from gauss_rank_scaler import GaussRankScaler\n",
    "\n",
    "### Data Visualization ###\n",
    "import seaborn as sns\n",
    "import matplotlib.pyplot as plt\n",
    "plt.style.use(\"fivethirtyeight\")\n",
    "\n",
    "### Machine Learning ###\n",
    "from sklearn.decomposition import PCA\n",
    "from sklearn.preprocessing import LabelEncoder\n",
    "from sklearn.metrics import roc_auc_score, log_loss\n",
    "from sklearn.preprocessing import QuantileTransformer\n",
    "from sklearn.feature_selection import VarianceThreshold\n",
    "from iterstrat.ml_stratifiers import MultilabelStratifiedKFold\n",
    "\n",
    "### Deep Learning ###\n",
    "import torch\n",
    "from torch import nn\n",
    "import torch.optim as optim\n",
    "from torch.nn import functional as F\n",
    "from torch.nn.modules.loss import _WeightedLoss\n",
    "from torch.utils.data import DataLoader, Dataset\n",
    "from torch.optim.lr_scheduler import ReduceLROnPlateau, OneCycleLR\n",
    "# Tabnet \n",
    "from pytorch_tabnet.metrics import Metric\n",
    "from pytorch_tabnet.tab_model import TabNetRegressor\n",
    "\n",
    "### Make prettier the prints ###\n",
    "from colorama import Fore\n",
    "c_ = Fore.CYAN\n",
    "m_ = Fore.MAGENTA\n",
    "r_ = Fore.RED\n",
    "b_ = Fore.BLUE\n",
    "y_ = Fore.YELLOW\n",
    "g_ = Fore.GREEN"
   ]
  },
  {
   "cell_type": "markdown",
   "metadata": {},
   "source": [
    "## <font color = \"green\">Reproducibility</font>"
   ]
  },
  {
   "cell_type": "code",
   "execution_count": null,
   "metadata": {},
   "outputs": [],
   "source": [
    "seed = 42\n",
    "\n",
    "def set_seed(seed):\n",
    "    random.seed(seed)\n",
    "    np.random.seed(seed)\n",
    "    torch.manual_seed(seed)\n",
    "    os.environ[\"PYTHONHASHSEED\"] = str(seed)\n",
    "    \n",
    "    if torch.cuda.is_available():\n",
    "        torch.cuda.manual_seed(seed)\n",
    "        torch.cuda.manual_seed_all(seed)\n",
    "        torch.backends.cudnn.deterministic = True\n",
    "        torch.backends.cudnn.benchmark = False\n",
    "set_seed(seed)"
   ]
  },
  {
   "cell_type": "markdown",
   "metadata": {},
   "source": [
    "## <font color = \"green\">Configuration</font>"
   ]
  },
  {
   "cell_type": "code",
   "execution_count": null,
   "metadata": {},
   "outputs": [],
   "source": [
    "# Parameters\n",
    "data_path = \"../input/lish-moa/\"\n",
    "no_ctl = True\n",
    "scale = \"rankgauss\"\n",
    "variance_threshould = 0.5\n",
    "decompo = \"PCA\"\n",
    "ncompo_genes = 80\n",
    "ncompo_cells = 20\n",
    "encoding = \"dummy\""
   ]
  },
  {
   "cell_type": "markdown",
   "metadata": {},
   "source": [
    "## <font color = \"green\">Loading the Data</font>"
   ]
  },
  {
   "cell_type": "code",
   "execution_count": null,
   "metadata": {},
   "outputs": [],
   "source": [
    "train = pd.read_csv(data_path + \"train_features.csv\")\n",
    "#train.drop(columns = [\"sig_id\"], inplace = True)\n",
    "\n",
    "targets = pd.read_csv(data_path + \"train_targets_scored.csv\")\n",
    "#train_targets_scored.drop(columns = [\"sig_id\"], inplace = True)\n",
    "\n",
    "#train_targets_nonscored = pd.read_csv(data_path + \"train_targets_nonscored.csv\")\n",
    "\n",
    "test = pd.read_csv(data_path + \"test_features.csv\")\n",
    "#test.drop(columns = [\"sig_id\"], inplace = True)\n",
    "\n",
    "submission = pd.read_csv(data_path + \"sample_submission.csv\")"
   ]
  },
  {
   "cell_type": "code",
   "execution_count": null,
   "metadata": {},
   "outputs": [],
   "source": [
    "train_cv_without_drug = pd.read_csv(\"../input/cv-data/cv-10fold-without-drug_id.csv\")\n",
    "train_cv_with_drug = pd.read_csv(\"../input/cv-data/cv-10fold-with-drug_id.csv\")\n",
    "print(\"train_without-drug.shape\", train_cv_without_drug.shape)\n",
    "#train_cv_without_drug.head()"
   ]
  },
  {
   "cell_type": "code",
   "execution_count": null,
   "metadata": {},
   "outputs": [],
   "source": [
    "train_with_drug = pd.merge(train,train_cv_with_drug, on = \"sig_id\")\n",
    "train_without_drug = pd.merge(train,train_cv_without_drug, on = \"sig_id\")\n",
    "#train_with_drug.head()\n",
    "#train_without_drug.head()"
   ]
  },
  {
   "cell_type": "code",
   "execution_count": null,
   "metadata": {},
   "outputs": [],
   "source": [
    "use_drug = True\n",
    "if use_drug:\n",
    "    train = train_with_drug\n",
    "else:\n",
    "    train = train_without_drug"
   ]
  },
  {
   "cell_type": "markdown",
   "metadata": {},
   "source": [
    "# <font color = \"seagreen\">Preprocessing and Feature Engineering</font>"
   ]
  },
  {
   "cell_type": "code",
   "execution_count": null,
   "metadata": {},
   "outputs": [],
   "source": [
    "if no_ctl:\n",
    "    # cp_type == ctl_vehicle\n",
    "    print(b_, \"not_ctl\")\n",
    "    train = train[train[\"cp_type\"] != \"ctl_vehicle\"]\n",
    "    test = test[test[\"cp_type\"] != \"ctl_vehicle\"]\n",
    "    targets = targets.iloc[train.index]\n",
    "    train.reset_index(drop = True, inplace = True)\n",
    "    test.reset_index(drop = True, inplace = True)\n",
    "    targets.reset_index(drop = True, inplace = True)"
   ]
  },
  {
   "cell_type": "markdown",
   "metadata": {},
   "source": [
    "## <font color = \"green\">Distributions Before Rank Gauss and PCA</font>"
   ]
  },
  {
   "cell_type": "code",
   "execution_count": null,
   "metadata": {},
   "outputs": [],
   "source": [
    "def distributions(num, graphs, items, features, gorc):\n",
    "    \"\"\"\n",
    "    Plot the distributions of gene expression or cell viability data\n",
    "    \"\"\"\n",
    "    for i in range(0, num - 1, 7):\n",
    "        if i >= 3:\n",
    "            break\n",
    "        idxs = list(np.array([0, 1, 2, 3, 4, 5, 6]) + i)\n",
    "    \n",
    "        fig, axs = plt.subplots(1, 7, sharey = True)\n",
    "        for k, item in enumerate(idxs):\n",
    "            if item >= items:\n",
    "                break\n",
    "            graph = sns.distplot(train[features].values[:, item], ax = axs[k])\n",
    "            graph.set_title(f\"{gorc}-{item}\")\n",
    "            graphs.append(graph)"
   ]
  },
  {
   "cell_type": "code",
   "execution_count": null,
   "metadata": {},
   "outputs": [],
   "source": [
    "GENES = [col for col in train.columns if col.startswith(\"g-\")]\n",
    "CELLS = [col for col in train.columns if col.startswith(\"c-\")]"
   ]
  },
  {
   "cell_type": "markdown",
   "metadata": {},
   "source": [
    "### <font color = \"green\">Distributions of the Train Set</font>"
   ]
  },
  {
   "cell_type": "markdown",
   "metadata": {},
   "source": [
    "gnum = train[GENES].shape[1]\n",
    "graphs = []\n",
    "\n",
    "distributions(gnum, graphs, 771, GENES, \"g\")"
   ]
  },
  {
   "cell_type": "markdown",
   "metadata": {},
   "source": [
    "cnum = train[CELLS].shape[1]\n",
    "graphs = []\n",
    "\n",
    "distributions(cnum, graphs, 100, CELLS, \"c\")"
   ]
  },
  {
   "cell_type": "markdown",
   "metadata": {},
   "source": [
    "### <font color = \"green\">Distributions of the Test Set</font>"
   ]
  },
  {
   "cell_type": "markdown",
   "metadata": {},
   "source": [
    "gnum = test[GENES].shape[1]\n",
    "graphs = []\n",
    "\n",
    "distributions(gnum, graphs, 771, GENES, \"g\")"
   ]
  },
  {
   "cell_type": "markdown",
   "metadata": {},
   "source": [
    "cnum = test[CELLS].shape[1]\n",
    "graphs = []\n",
    "\n",
    "distributions(cnum, graphs, 100, CELLS, \"c\")"
   ]
  },
  {
   "cell_type": "markdown",
   "metadata": {},
   "source": [
    "## <font color = \"green\">Rank Gauss Process</font>"
   ]
  },
  {
   "cell_type": "code",
   "execution_count": null,
   "metadata": {},
   "outputs": [],
   "source": [
    "data_all = pd.concat([train, test], ignore_index = True)\n",
    "cols_numeric = [feat for feat in list(data_all.columns) if feat not in [\"sig_id\", \"cp_type\", \"cp_time\", \"cp_dose\",\"drug_id\",\"fold_id\"]]\n",
    "mask = (data_all[cols_numeric].var() >= variance_threshould).values\n",
    "tmp = data_all[cols_numeric].loc[:, mask]\n",
    "data_all = pd.concat([data_all[[\"sig_id\", \"cp_type\", \"cp_time\", \"cp_dose\",\"drug_id\",\"fold_id\"]], tmp], axis = 1)\n",
    "cols_numeric = [feat for feat in list(data_all.columns) if feat not in [\"sig_id\", \"cp_type\", \"cp_time\", \"cp_dose\",\"drug_id\",\"fold_id\"]]"
   ]
  },
  {
   "cell_type": "markdown",
   "metadata": {},
   "source": [
    "print(train.shape)\n",
    "print(test.shape)\n",
    "#data_all = pd.concat([train, test], ignore_index = True)\n",
    "print(data_all.shape)\n",
    "print(data_all.columns[-2:])\n",
    "print(data_all.iloc[-2,-3:])\n",
    "print(data_all.columns)"
   ]
  },
  {
   "cell_type": "code",
   "execution_count": null,
   "metadata": {},
   "outputs": [],
   "source": [
    "def scale_minmax(col):\n",
    "    return (col - col.min()) / (col.max() - col.min())\n",
    "\n",
    "def scale_norm(col):\n",
    "    return (col - col.mean()) / col.std()\n",
    "\n",
    "if scale == \"boxcox\":\n",
    "    print(b_, \"boxcox\")\n",
    "    data_all[cols_numeric] = data_all[cols_numeric].apply(scale_minmax, axis = 0)\n",
    "    trans = []\n",
    "    for feat in cols_numeric:\n",
    "        trans_var, lambda_var = stats.boxcox(data_all[feat].dropna() + 1)\n",
    "        trans.append(scale_minmax(trans_var))\n",
    "    data_all[cols_numeric] = np.asarray(trans).T\n",
    "    \n",
    "elif scale == \"norm\":\n",
    "    print(b_, \"norm\")\n",
    "    data_all[cols_numeric] = data_all[cols_numeric].apply(scale_norm, axis = 0)\n",
    "    \n",
    "elif scale == \"minmax\":\n",
    "    print(b_, \"minmax\")\n",
    "    data_all[cols_numeric] = data_all[cols_numeric].apply(scale_minmax, axis = 0)\n",
    "    \n",
    "elif scale == \"rankgauss\":\n",
    "    ### Rank Gauss ###\n",
    "    print(b_, \"Rank Gauss\")\n",
    "    scaler = GaussRankScaler()\n",
    "    data_all[cols_numeric] = scaler.fit_transform(data_all[cols_numeric])\n",
    "    \n",
    "else:\n",
    "    pass"
   ]
  },
  {
   "cell_type": "markdown",
   "metadata": {},
   "source": [
    "## <font color = \"green\">Principal Component Analysis</font>"
   ]
  },
  {
   "cell_type": "code",
   "execution_count": null,
   "metadata": {},
   "outputs": [],
   "source": [
    "# PCA\n",
    "if decompo == \"PCA\":\n",
    "    print(b_, \"PCA\")\n",
    "    GENES = [col for col in data_all.columns if col.startswith(\"g-\")]\n",
    "    CELLS = [col for col in data_all.columns if col.startswith(\"c-\")]\n",
    "    \n",
    "    pca_genes = PCA(n_components = ncompo_genes,\n",
    "                    random_state = seed).fit_transform(data_all[GENES])\n",
    "    pca_cells = PCA(n_components = ncompo_cells,\n",
    "                    random_state = seed).fit_transform(data_all[CELLS])\n",
    "    \n",
    "    pca_genes = pd.DataFrame(pca_genes, columns = [f\"pca_g-{i}\" for i in range(ncompo_genes)])\n",
    "    pca_cells = pd.DataFrame(pca_cells, columns = [f\"pca_c-{i}\" for i in range(ncompo_cells)])\n",
    "    data_all = pd.concat([data_all, pca_genes, pca_cells], axis = 1)\n",
    "else:\n",
    "    pass"
   ]
  },
  {
   "cell_type": "markdown",
   "metadata": {},
   "source": [
    "## <font color = \"green\">One Hot</font>"
   ]
  },
  {
   "cell_type": "code",
   "execution_count": null,
   "metadata": {},
   "outputs": [],
   "source": [
    "# Encoding\n",
    "if encoding == \"lb\":\n",
    "    print(b_, \"Label Encoding\")\n",
    "    for feat in [\"cp_time\", \"cp_dose\"]:\n",
    "        data_all[feat] = LabelEncoder().fit_transform(data_all[feat])\n",
    "elif encoding == \"dummy\":\n",
    "    print(b_, \"One-Hot\")\n",
    "    data_all = pd.get_dummies(data_all, columns = [\"cp_time\", \"cp_dose\"])"
   ]
  },
  {
   "cell_type": "code",
   "execution_count": null,
   "metadata": {},
   "outputs": [],
   "source": [
    "GENES = [col for col in data_all.columns if col.startswith(\"g-\")]\n",
    "CELLS = [col for col in data_all.columns if col.startswith(\"c-\")]\n",
    "\n",
    "for stats in tqdm.tqdm([\"sum\", \"mean\", \"std\", \"kurt\", \"skew\"]):\n",
    "    data_all[\"g_\" + stats] = getattr(data_all[GENES], stats)(axis = 1)\n",
    "    data_all[\"c_\" + stats] = getattr(data_all[CELLS], stats)(axis = 1)    \n",
    "    data_all[\"gc_\" + stats] = getattr(data_all[GENES + CELLS], stats)(axis = 1)"
   ]
  },
  {
   "cell_type": "markdown",
   "metadata": {},
   "source": [
    "## <font color = \"green\">Distributions After Rank Gauss and PCA</font>"
   ]
  },
  {
   "cell_type": "code",
   "execution_count": null,
   "metadata": {},
   "outputs": [],
   "source": [
    "def distributions(num, graphs, items, features, gorc):\n",
    "    \"\"\"\n",
    "    Plot the distributions of gene expression or cell viability data\n",
    "    \"\"\"\n",
    "    for i in range(0, num - 1, 7):\n",
    "        if i >= 3:\n",
    "            break\n",
    "        idxs = list(np.array([0, 1, 2, 3, 4, 5, 6]) + i)\n",
    "    \n",
    "        fig, axs = plt.subplots(1, 7, sharey = True)\n",
    "        for k, item in enumerate(idxs):\n",
    "            if item >= items:\n",
    "                break\n",
    "            graph = sns.distplot(data_all[features].values[:, item], ax = axs[k])\n",
    "            graph.set_title(f\"{gorc}-{item}\")\n",
    "            graphs.append(graph)"
   ]
  },
  {
   "cell_type": "markdown",
   "metadata": {},
   "source": [
    "### <font color = \"green\">Distributions of \"data_all\"</font>"
   ]
  },
  {
   "cell_type": "markdown",
   "metadata": {},
   "source": [
    "gnum = data_all[GENES].shape[1]\n",
    "graphs = []\n",
    "\n",
    "distributions(gnum, graphs, 771, GENES, \"g\")"
   ]
  },
  {
   "cell_type": "markdown",
   "metadata": {},
   "source": [
    "cnum = data_all[CELLS].shape[1]\n",
    "graphs = []\n",
    "\n",
    "distributions(cnum, graphs, 100, CELLS, \"c\")"
   ]
  },
  {
   "cell_type": "markdown",
   "metadata": {},
   "source": [
    "We can confirme that the shapes of data got close to the normal distribution."
   ]
  },
  {
   "cell_type": "code",
   "execution_count": null,
   "metadata": {},
   "outputs": [],
   "source": [
    "with open(\"data_all.pickle\", \"wb\") as f:\n",
    "    pickle.dump(data_all, f)"
   ]
  },
  {
   "cell_type": "code",
   "execution_count": null,
   "metadata": {},
   "outputs": [],
   "source": [
    "with open(\"data_all.pickle\", \"rb\") as f:\n",
    "    data_all = pickle.load(f)"
   ]
  },
  {
   "cell_type": "code",
   "execution_count": null,
   "metadata": {},
   "outputs": [],
   "source": [
    "print(data_all.shape)\n",
    "data_all.head()"
   ]
  },
  {
   "cell_type": "code",
   "execution_count": null,
   "metadata": {},
   "outputs": [],
   "source": [
    "train_df = data_all[:train.shape[0]]\n",
    "test_df = data_all[train.shape[0]:]\n",
    "print(train_df.shape)"
   ]
  },
  {
   "cell_type": "code",
   "execution_count": null,
   "metadata": {},
   "outputs": [],
   "source": [
    "# train_df and test_df\n",
    "features_to_drop = [\"sig_id\", \"cp_type\",\"drug_id\"]\n",
    "\n",
    "data_all.drop(features_to_drop, axis = 1, inplace = True)\n",
    "try:\n",
    "    targets.drop(\"sig_id\", axis = 1, inplace = True)\n",
    "except:\n",
    "    pass\n",
    "train_df = data_all[: train.shape[0]]\n",
    "train_df.reset_index(drop = True, inplace = True)\n",
    "# The following line it's a bad practice in my opinion, targets on train set\n",
    "#train_df = pd.concat([train_df, targets], axis = 1)\n",
    "test_df = data_all[train_df.shape[0]: ]\n",
    "test_df.reset_index(drop = True, inplace = True)"
   ]
  },
  {
   "cell_type": "code",
   "execution_count": null,
   "metadata": {},
   "outputs": [],
   "source": [
    "with open(\"train_df.pickle\", \"wb\") as f:\n",
    "    pickle.dump(train_df, f)"
   ]
  },
  {
   "cell_type": "code",
   "execution_count": null,
   "metadata": {},
   "outputs": [],
   "source": [
    "with open(\"train_df.pickle\", \"rb\") as f:\n",
    "    train_df = pickle.load(f)"
   ]
  },
  {
   "cell_type": "code",
   "execution_count": null,
   "metadata": {},
   "outputs": [],
   "source": [
    "print(f\"{b_}train_df.shape: {r_}{train_df.shape}\")\n",
    "print(f\"{b_}test_df.shape: {r_}{test_df.shape}\")"
   ]
  },
  {
   "cell_type": "code",
   "execution_count": null,
   "metadata": {},
   "outputs": [],
   "source": [
    "test_df.head()"
   ]
  },
  {
   "cell_type": "code",
   "execution_count": null,
   "metadata": {},
   "outputs": [],
   "source": [
    "test_df.drop(['fold_id'],axis = 1, inplace = True)\n",
    "X_test = test_df.values\n",
    "\n",
    "print(f\"{b_}X_test.shape: {r_}{X_test.shape}\")"
   ]
  },
  {
   "cell_type": "markdown",
   "metadata": {},
   "source": [
    "# <font color = \"seagreen\">Experiments</font>\n",
    "\n",
    "I just want to point that the [original work](https://www.kaggle.com/optimo/tabnetregressor-2-0-train-infer) achive a CV of 0.015532370835690834 and a LB score of 0.01864. Some of the experiments that i made with their changes:\n",
    "\n",
    "\n",
    "- CV: 0.01543560538566987, LB: 0.01858, best LB that i could achive, changes\n",
    "    - `n_a` = 32 instead of 24\n",
    "    - `n_d` = 32 instead of 24\n",
    "- CV: 0.015282077428722094, LB: 0.01862, best CV that i could achive, changes (Version 5):\n",
    "    - `n_a` = 32 instead of 24\n",
    "    - `n_d` = 32 instead of 24\n",
    "    - `virtual_batch_size` = 32, instead of 128\n",
    "    - `seed` = 42 instead of 0\n",
    "- CV: 0.015330138325308062, LB: 01864, the same LB that the original but better CV, changes:\n",
    "    - `n_a` = 32 instead of 24\n",
    "    - `n_d` = 32 instead of 24\n",
    "    - `virtual_batch_size` = 64, instead of 128\n",
    "    - `batch_size` = 512, instead of 1024\n",
    "- CV: 0.015361751699863063, LB: 0.01863, better LB and CV than the original, changes:\n",
    "    - `n_a` = 32 instead of 24\n",
    "    - `n_d` = 32 instead of 24\n",
    "    - `virtual_batch_size` = 64, instead of 128\n",
    "- CV: 0.015529925324634975, LB: 0.01865, changes:\n",
    "    - `n_a` = 48 instead of 24\n",
    "    - `n_d` = 48 instead of 24\n",
    "- CV: 0.015528553520924939, LB: 0.01868, changes:\n",
    "    - `n_a` = 12 instead of 24\n",
    "    - `n_d` = 12 instead of 24\n",
    "- CV: 0.015870202970324317, LB: 0.01876, worst CV and LB score, changes:\n",
    "    - `n_a` = 12 instead of 24\n",
    "    - `n_d` = 12 instead of 24\n",
    "    - `batch_size` = 2048, instead of 1024\n",
    "    \n",
    "    \n",
    "As you can see if `batch_size` < 1024 and > 1024 give worst results. Something similar happens with `n_a` and `n_d`, if their values are lower or higher than 32 the results are worst.\n",
    "\n",
    "\n",
    "## <font color = \"green\">Versions</font>\n",
    "\n",
    "- **Version 5**: I added the `seed` parameter to the TabNet model.\n",
    "- **Version 6**: I changed the `virtual_batch_size` to 24\n",
    "    - CV: 0.01532900616425282, LB: 0.01862, changes:\n",
    "        - `n_a` = 32 instead of 24\n",
    "        - `n_d` = 32 instead of 24\n",
    "        - `virtual_batch_size` = 24, instead of 128\n",
    "        - `seed` = 42 instead of 0\n",
    "- **Version 7**: PCA, Rank Gauss\n",
    "----------------------my own version-------------------------------------------\n",
    "    **PCA,Rank Gauss:\n",
    "    - variance_threshould = 0.7\n",
    "    - ncompo_genes = 80\n",
    "    - ncompo_cells = 20\n",
    "    - N-folds = 10\n",
    "- **Version 8**: \n",
    "    - CV: 0.01692647532859, LB: 0.01853\n",
    "        - n_d = 32;\n",
    "        - n_a = 32;\n",
    "        - Adam l_r = 1e-2; weight_decay = 1e-5\n",
    "        - scheduler(ReduceLROnPlateau) min_lr = 2d-5\n",
    "          virtual batch size = 32;\n",
    "          batch size = 1024.\n",
    "    - CV: 0.01652840657644926 , LB: 0.1848\n",
    "        - batch size changed to 512. others same as before.\n",
    "    - CV：0.016546578732493402，LB：\n",
    "        - virtial size = 48; batch size 512\n",
    "    - CV: 0.016529772904965292, LB:0.1845\n",
    "        - factor of scheduler = 0.95 instead of 0.9; virtual size = 32; batch size = 512\n",
    "    - CV:0.016526309770667418  , LB:\n",
    "\n",
    "       - virtual size = 24; factor of scheduler = 0.95; batch size = 512.\n",
    "\n",
    "    - CV: 0.01649562967339423, LB: \n",
    "\n",
    "      - variance threshhold = 0.5; size = 32; factor = 0.9; batch size = 512.\n",
    "    - CV: , LB:0.1852\n",
    "      - variance = 0.5; size = 32; factor = 0.95; batch size = 512.\n",
    "    - CV: LB: 0.01847\n",
    "        - variance = 0.5; size = 32;factor = 0.9; batch size = 512.\n",
    "    - CV: 0.016497062869096992, LB:\n",
    "        - variance = 0.5; size = 28; factor = 0.9; batch size = 512.\n",
    "    - CV: 0.016497062869096992, LB： 0.01848\n",
    "        - variance = 0.5; size = 48; factor = 0.9; batch size = 512\n",
    "        \n",
    "    --- New trainging without drug_id:\n",
    "    \n",
    "    - virtual batch size: 32 factor: 0.9\n",
    "     - Overall AUC: 0.7574471117948228\n",
    "     - Average CV: 0.016496654100691212\n",
    "     \n",
    "    - virtual batch size: 32 factor: 0.95\n",
    "    - Overall AUC: 0.7520158477181763\n",
    "    - Average CV: 0.016510628911756482\n",
    "    \n",
    "    --- New training with drug_id:\n",
    "    \n",
    "    - virtual batch size: 32 factor: 0.85\n",
    "    - Overall AUC: 0.6185523398300935\n",
    "    - Average CV: 0.017460261292337097\n",
    "    \n",
    "    \n",
    "    --- virtual batch size: 48 factor: 0.9\n",
    "    \n",
    "    - Overall AUC: 0.6215665121474556\n",
    "    - Average CV: 0.017514807385519703\n",
    "    \n",
    "    virtual batch size: 28 factor: 0.9\n",
    "    \n",
    "    - Overall AUC: 0.6185208352311865\n",
    "    - Average CV: 0.01745312588522571\n",
    " \n",
    "     \n",
    "    virtual batch size: 24 factor: 0.9\n",
    "    \n",
    "    - Overall AUC: 0.6269936265650987\n",
    "    - Average CV: 0.017442175427049223\n",
    "    \n",
    "   virtual batch size: 32 factor: 0.9\n",
    "    - Overall AUC: 0.6243793019457523\n",
    "    - Average CV: 0.017460456461029943\n",
    " \n",
    "   virtual batch size: 32 factor: 0.95\n",
    "    - Overall AUC: 0.6175818373225643\n",
    "    - Average CV: 0.01744343293434002\n",
    "    \n",
    "  ----Now change Adam learning rate and weight decay while leaving virtual bach size at 32 and factor at 0.9.\n",
    "    optimizer learning rate: 0.002 optimizer-weight: 1e-05\n",
    "    - Overall AUC: 0.5791293023042242\n",
    "    - Average CV: 0.01840453316335993\n",
    "    \n",
    "    -optimizer learning rate: 0.05 optimizer-weight: 1e-05\n",
    "    - Overall AUC: 0.5909010162689078\n",
    "    - Average CV: 0.017809388941761616\n",
    "    \n",
    "   optimizer learning rate: 0.01 optimizer-weight: 5e-05\n",
    "    - Overall AUC: 0.5607564117694336\n",
    "    - Average CV: 0.018161297182033277\n",
    "    \n",
    "     optimizer learning rate: 0.01 optimizer-weight: 2e-06\n",
    "    -Overall AUC: 0.5800938931711115\n",
    "    -Average CV: 0.01828599402999271\n",
    "    \n",
    "    optimizer learning rate: 0.001 optimizer-weight: 1e-05\n",
    "  - Overall AUC: 0.5652120354156508\n",
    "   - Average CV: 0.018680077936950347\n",
    "  "
   ]
  },
  {
   "cell_type": "markdown",
   "metadata": {},
   "source": [
    "# <font color = \"seagreen\">Modeling</font>"
   ]
  },
  {
   "cell_type": "markdown",
   "metadata": {},
   "source": [
    "## <font color = \"green\">Model Parameters</font>"
   ]
  },
  {
   "cell_type": "markdown",
   "metadata": {},
   "source": [
    "original schedular fn and params:\n",
    "\n",
    "scheduler_params = dict(\n",
    "        mode = \"min\", patience = 5, min_lr = 1e-5, factor = 0.9),\n",
    "    scheduler_fn = ReduceLROnPlateau,"
   ]
  },
  {
   "cell_type": "code",
   "execution_count": null,
   "metadata": {},
   "outputs": [],
   "source": [
    "MAX_EPOCH = 200 #for testing\n",
    "# n_d and n_a are different from the original work, 32 instead of 24\n",
    "# This is the first change in the code from the original\n",
    "optimizer_lr = 1e-2\n",
    "optimizer_weight_decay = 1e-5\n",
    "tabnet_params = dict(\n",
    "    n_d = 32,\n",
    "    n_a = 32,\n",
    "    n_steps = 1,\n",
    "    gamma = 1.3,\n",
    "    lambda_sparse = 0,\n",
    "    optimizer_fn = optim.Adam,\n",
    "    optimizer_params = dict(lr = 2e-2, weight_decay = 2e-5),\n",
    "    mask_type = \"entmax\",\n",
    "    scheduler_params = dict(\n",
    "        mode = \"min\", patience = 5, min_lr = 2e-5, factor = 0.9),\n",
    "    scheduler_fn = ReduceLROnPlateau,\n",
    "    seed = seed,\n",
    "    verbose = 10\n",
    "    \n",
    ")"
   ]
  },
  {
   "cell_type": "markdown",
   "metadata": {},
   "source": [
    "## <font color = \"green\">Custom Metric</font>"
   ]
  },
  {
   "cell_type": "code",
   "execution_count": null,
   "metadata": {},
   "outputs": [],
   "source": [
    "class LogitsLogLoss(Metric):\n",
    "    \"\"\"\n",
    "    LogLoss with sigmoid applied\n",
    "    \"\"\"\n",
    "\n",
    "    def __init__(self):\n",
    "        self._name = \"logits_ll\"\n",
    "        self._maximize = False\n",
    "\n",
    "    def __call__(self, y_true, y_pred):\n",
    "        \"\"\"\n",
    "        Compute LogLoss of predictions.\n",
    "\n",
    "        Parameters\n",
    "        ----------\n",
    "        y_true: np.ndarray\n",
    "            Target matrix or vector\n",
    "        y_score: np.ndarray\n",
    "            Score matrix or vector\n",
    "\n",
    "        Returns\n",
    "        -------\n",
    "            float\n",
    "            LogLoss of predictions vs targets.\n",
    "        \"\"\"\n",
    "        logits = 1 / (1 + np.exp(-y_pred))\n",
    "        aux = (1 - y_true) * np.log(1 - logits + 1e-15) + y_true * np.log(logits + 1e-15)\n",
    "        return np.mean(-aux)"
   ]
  },
  {
   "cell_type": "markdown",
   "metadata": {},
   "source": [
    "# <font color = \"seagreen\">Training</font>"
   ]
  },
  {
   "cell_type": "markdown",
   "metadata": {},
   "source": [
    "NB_SPLITS = 3\n",
    "mskf = MultilabelStratifiedKFold(n_splits = NB_SPLITS, random_state = 0, shuffle = True)\n",
    "for fold_nb, (train_idx, val_idx) in enumerate(mskf.split(train_df, targets)):\n",
    "    print(b_,\"FOLDS: \", r_, fold_nb + 1, len(train_idx), len(val_idx), train_idx[::2000])"
   ]
  },
  {
   "cell_type": "markdown",
   "metadata": {},
   "source": [
    "#play_idx = [i for i in range(len(train_df)- 4)]\n",
    "#include_idx = [i for i in range(len(train_df)) if i not in play_idx]\n",
    "#print(include_idx)\n",
    "#train_df.values[include_idx]\n",
    "val_idx = train_df[train_df.fold_id == 1].index\n",
    "train_df.iloc[-val_idx,:]\n",
    "train_idx = train_df.index.difference(val_idx)\n",
    "print(val_idx[:10],train_idx[:30])"
   ]
  },
  {
   "cell_type": "code",
   "execution_count": null,
   "metadata": {},
   "outputs": [],
   "source": [
    "\n",
    "with open(\"train_df.pickle\", \"rb\") as f:\n",
    "      train_df = pickle.load(f)\n",
    "        \n",
    "for optimizer_lr, optimizer_weight in [(1e-3,1e-6)]:\n",
    "    \n",
    "    tabnet_params = dict(\n",
    "    n_d = 32,\n",
    "    n_a = 32,\n",
    "    n_steps = 1,\n",
    "    gamma = 1.3,\n",
    "    lambda_sparse = 0,\n",
    "    optimizer_fn = optim.Adam,\n",
    "    optimizer_params = dict(lr = optimizer_lr, weight_decay = optimizer_weight),\n",
    "    mask_type = \"entmax\",\n",
    "    scheduler_params = dict(\n",
    "        mode = \"min\", patience = 5, min_lr = 2e-5, factor = 0.9),\n",
    "    scheduler_fn = ReduceLROnPlateau,\n",
    "    seed = seed,\n",
    "    verbose = 10\n",
    "    \n",
    "    )\n",
    "    \n",
    "    scores_auc_all = []\n",
    "    test_cv_preds = []    \n",
    "    NB_SPLITS = len(train_df.fold_id.unique())\n",
    "    #mskf = MultilabelStratifiedKFold(n_splits = NB_SPLITS, random_state = 0, shuffle = True)\n",
    "\n",
    "    oof_preds = []\n",
    "    oof_targets = []\n",
    "    scores = []\n",
    "    scores_auc = []\n",
    "    #for fold_nb, (train_idx, val_idx) in enumerate(mskf.split(train_df, targets)):\n",
    "    for fold_nb in range(10):\n",
    "\n",
    "\n",
    "        val_idx = train_df[train_df.fold_id == fold_nb].index\n",
    "        train_idx = train_df.index.difference(val_idx)\n",
    "        print(b_,\"FOLDS: \", r_, fold_nb + 1)\n",
    "        print(g_, '*' * 60, c_)\n",
    "\n",
    "        train_df_dropfold = train_df.drop([\"fold_id\"],axis = 1, inplace = False)\n",
    "\n",
    "        X_train, y_train = train_df_dropfold.values[train_idx, :], targets.values[train_idx, :]\n",
    "        X_val, y_val = train_df_dropfold.values[val_idx, :], targets.values[val_idx, :]\n",
    "        ### Model ###\n",
    "        model = TabNetRegressor(**tabnet_params)\n",
    "\n",
    "        ### Fit ###\n",
    "        # Another change to the original code\n",
    "        # virtual_batch_size of 32 instead of 128\n",
    "        model.fit(\n",
    "            X_train = X_train,\n",
    "            y_train = y_train,\n",
    "            eval_set = [(X_val, y_val)],\n",
    "            eval_name = [\"val\"],\n",
    "            eval_metric = [\"logits_ll\"],\n",
    "            max_epochs = MAX_EPOCH,\n",
    "            patience = 20,\n",
    "            batch_size = 512, \n",
    "            virtual_batch_size = 32,\n",
    "            num_workers = 1,\n",
    "            drop_last = False,\n",
    "            # To use binary cross entropy because this is not a regression problem\n",
    "            loss_fn = F.binary_cross_entropy_with_logits\n",
    "        )\n",
    "        print(y_, '-' * 60)\n",
    "\n",
    "        ### Predict on validation ###\n",
    "        preds_val = model.predict(X_val)\n",
    "        # Apply sigmoid to the predictions\n",
    "        preds = 1 / (1 + np.exp(-preds_val))\n",
    "        score = np.min(model.history[\"val_logits_ll\"])\n",
    "\n",
    "        ### Save OOF for CV ###\n",
    "        oof_preds.append(preds_val)\n",
    "        oof_targets.append(y_val)\n",
    "        scores.append(score)\n",
    "\n",
    "        ### Predict on test ###\n",
    "        preds_test = model.predict(X_test)\n",
    "        test_cv_preds.append(1 / (1 + np.exp(-preds_test)))\n",
    "\n",
    "    oof_preds_all = np.concatenate(oof_preds)\n",
    "    oof_targets_all = np.concatenate(oof_targets)\n",
    "    test_preds_all = np.stack(test_cv_preds)\n",
    "    aucs = []\n",
    "    for task_id in range(oof_preds_all.shape[1]):\n",
    "        aucs.append(roc_auc_score(y_true = oof_targets_all[:, task_id],\n",
    "                                  y_score = oof_preds_all[:, task_id]\n",
    "                                 ))\n",
    "    print( \"optimizer learning rate:\", optimizer_lr, \"optimizer-weight:\", optimizer_weight)\n",
    "    print(f\"{b_}Overall AUC: {r_}{np.mean(aucs)}\")\n",
    "    print(f\"{b_}Average CV: {r_}{np.mean(scores)}\")"
   ]
  },
  {
   "cell_type": "markdown",
   "metadata": {},
   "source": [
    "aucs = []\n",
    "for task_id in range(oof_preds_all.shape[1]):\n",
    "    aucs.append(roc_auc_score(y_true = oof_targets_all[:, task_id],\n",
    "                              y_score = oof_preds_all[:, task_id]\n",
    "                             ))\n",
    "print(f\"{b_}Overall AUC: {r_}{np.mean(aucs)}\")\n",
    "print(f\"{b_}Average CV: {r_}{np.mean(scores)}\")"
   ]
  },
  {
   "cell_type": "markdown",
   "metadata": {},
   "source": [
    "**The worst CV value that i achive**"
   ]
  },
  {
   "cell_type": "markdown",
   "metadata": {},
   "source": [
    "# <font color = \"seagreen\">Conclusion (NOT AVAILABLE UNTIL I SEE THE LB Score)</font> "
   ]
  },
  {
   "cell_type": "markdown",
   "metadata": {},
   "source": [
    "# <font color = \"seagreen\">Submission</font>"
   ]
  },
  {
   "cell_type": "code",
   "execution_count": null,
   "metadata": {},
   "outputs": [],
   "source": [
    "all_feat = [col for col in submission.columns if col not in [\"sig_id\"]]\n",
    "# To obtain the same lenght of test_preds_all and submission\n",
    "test = pd.read_csv(data_path + \"test_features.csv\")\n",
    "sig_id = test[test[\"cp_type\"] != \"ctl_vehicle\"].sig_id.reset_index(drop = True)\n",
    "tmp = pd.DataFrame(test_preds_all.mean(axis = 0), columns = all_feat)\n",
    "tmp[\"sig_id\"] = sig_id\n",
    "\n",
    "submission = pd.merge(test[[\"sig_id\"]], tmp, on = \"sig_id\", how = \"left\")\n",
    "submission.fillna(0, inplace = True)\n",
    "\n",
    "#submission[all_feat] = tmp.mean(axis = 0)\n",
    "\n",
    "# Set control to 0\n",
    "#submission.loc[test[\"cp_type\"] == 0, submission.columns[1:]] = 0\n",
    "submission.to_csv(\"submission.csv\", index = None)\n",
    "submission.head()"
   ]
  },
  {
   "cell_type": "code",
   "execution_count": null,
   "metadata": {},
   "outputs": [],
   "source": [
    "print(f\"{b_}submission.shape: {r_}{submission.shape}\")"
   ]
  },
  {
   "cell_type": "code",
   "execution_count": null,
   "metadata": {},
   "outputs": [],
   "source": [
    "def prob_clip(df, floor, ceiling):\n",
    "    for c in range(1,df.shape[1]):\n",
    "        df.iloc[:,c] = np.where(df.iloc[:,c]< floor, floor, df.iloc[:,c])\n",
    "        df.iloc[:,c] = np.where(df.iloc[:,c] > ceiling, ceiling, df.iloc[:,c])\n",
    "    return df"
   ]
  },
  {
   "cell_type": "markdown",
   "metadata": {},
   "source": [
    "<div class = \"alert alert-block alert-info\">\n",
    "    <h3><font color = \"red\">NOTE: </font></h3>\n",
    "    <p>If you want to comment please tag me with '@' to answer more quickly.</p>\n",
    "</div>"
   ]
  },
  {
   "cell_type": "code",
   "execution_count": null,
   "metadata": {},
   "outputs": [],
   "source": [
    "submission_clipped = prob_clip(submission, 0.0002, 0.9995)\n",
    "#submission_clipped.to_csv(\"submission.csv\", index = None)"
   ]
  }
 ],
 "metadata": {
  "kernelspec": {
   "display_name": "Python 3",
   "language": "python",
   "name": "python3"
  },
  "language_info": {
   "codemirror_mode": {
    "name": "ipython",
    "version": 3
   },
   "file_extension": ".py",
   "mimetype": "text/x-python",
   "name": "python",
   "nbconvert_exporter": "python",
   "pygments_lexer": "ipython3",
   "version": "3.8.3"
  }
 },
 "nbformat": 4,
 "nbformat_minor": 4
}
